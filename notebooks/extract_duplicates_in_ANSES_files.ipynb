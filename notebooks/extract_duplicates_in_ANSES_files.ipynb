{
 "cells": [
  {
   "cell_type": "markdown",
   "metadata": {},
   "source": []
  },
  {
   "cell_type": "code",
   "execution_count": 1,
   "metadata": {},
   "outputs": [],
   "source": [
    "import csv\n",
    "import os\n",
    "from collections import defaultdict"
   ]
  },
  {
   "cell_type": "code",
   "execution_count": 2,
   "metadata": {},
   "outputs": [
    {
     "data": {
      "text/plain": [
       "['.~lock.refined_2_Partie 1 TablesReferenceTELEICARE_2023_07_06 Plantes.csv#',\n",
       " '2° extraction duplicat plantes ANSES',\n",
       " 'NouveauTableau_Partie 1_ElodieNathalieV028122023.xlsx',\n",
       " 'BasededonneesIngredientsTeleIcare29012024.pdf',\n",
       " 'refined_2_Partie 1 TablesReferenceTELEICARE_2023_07_06 Plantes.csv',\n",
       " '2_Partie 1 TablesReferenceTELEICARE_2023_07_06 Plantes.csv',\n",
       " '1° extraction duplicat plantes ANSES',\n",
       " '2_Partie 1 TablesReferenceTELEICARE_2023_07_06 Plantes.xlsx',\n",
       " 'NouveauTableau_Partie 1_ElodieNathalieV028122023.csv',\n",
       " 'BasededonneesIngredientsTeleIcare29012024.odt']"
      ]
     },
     "execution_count": 2,
     "metadata": {},
     "output_type": "execute_result"
    }
   ],
   "source": [
    "directory = \"/home/perrine/Documents/Code/DINUM/Documents de travail instructrices/\"\n",
    "os.listdir(directory)\n"
   ]
  },
  {
   "cell_type": "code",
   "execution_count": 8,
   "metadata": {},
   "outputs": [],
   "source": [
    "def join_values(key, values):\n",
    "    if key in ['Stade(autorisé ou non)','Famille plante', 'Fonction plante (ingredient)', 'Commentaires publics (accessible opé dans nelle base)', 'Restrictions', 'Commentaires privés']:\n",
    "        # si la colonne doit être transformée en une chaîne de caractère unique, le séparateur est ///\n",
    "        return '///'.join([value for value in values if value != ''])\n",
    "    else:\n",
    "        # si la colonne est un array, le séparateur est une virgule\n",
    "        return ','.join([value for value in values if value != ''])\n",
    "\n",
    "def save_dedup_dict(dedup_dict, filename):\n",
    "    with open(os.path.join(directory, 'refined_' + filename), 'w') as write_csv_file:\n",
    "        writer = csv.writer(write_csv_file, delimiter=',')\n",
    "        writer.writerow([k for k in dedup_dict[1].keys()]) # header\n",
    "        for row in dedup_dict:\n",
    "            writer.writerow([join_values(k, v) for k, v in row.items()])\n"
   ]
  },
  {
   "cell_type": "code",
   "execution_count": 9,
   "metadata": {},
   "outputs": [],
   "source": [
    "filename = '2_Partie 1 TablesReferenceTELEICARE_2023_07_06 Plantes.csv'\n",
    "\n",
    "dedup = []\n",
    "with open(os.path.join(directory, filename)) as csv_file:\n",
    "    reader = csv.DictReader(csv_file)\n",
    "    current_plant = defaultdict(list)\n",
    "    old_name = \"\"\n",
    "\n",
    "    for row in reader:\n",
    "        current_name = row['Nom plantes en latin']\n",
    "        if current_name != old_name:\n",
    "            current_plant = {k: set(v) for k, v in current_plant.items()}\n",
    "            dedup.append(current_plant)\n",
    "            current_plant = defaultdict(list)\n",
    "        current_plant['Nom plantes en latin'].append(current_name)\n",
    "        current_plant['Nom synonyme'].append(row['Nom synonyme'])\n",
    "        current_plant['Partie utile'].append(row['Partie utile'])\n",
    "        current_plant['Parties dans arrêté'].append(row['Parties dans arrêté'])\n",
    "        current_plant['Partie à surveiller'].append(row['Partie à surveiller'])\n",
    "        current_plant['Substances actives'].append(row['Substances actives'])\n",
    "        current_plant['Stade(autorisé ou non)'].append(row['Stade(autorisé ou non)'])\n",
    "        current_plant['Famille plante'].append(row['Famille plante'])\n",
    "        current_plant['Fonction plante (ingredient)'].append(row['Fonction plante (ingredient)'])\n",
    "        current_plant['Commentaires publics (accessible opé dans nelle base)'].append(row['Commentaires publics (accessible opé dans nelle base)'])\n",
    "        current_plant['Restrictions'].append(row['Restrictions'])\n",
    "        current_plant['Commentaires privés'].append(row['Commentaires privés'])\n",
    "        old_name = current_name\n",
    "\n",
    "current_plant = {k: set(v) for k, v in current_plant.items()}\n",
    "dedup.append(current_plant)\n",
    "\n",
    "save_dedup_dict(dedup, filename)"
   ]
  },
  {
   "cell_type": "code",
   "execution_count": 31,
   "metadata": {},
   "outputs": [
    {
     "ename": "FileNotFoundError",
     "evalue": "[Errno 2] No such file or directory: '/home/perrine/Documents/Code/DINUM/Documents de travail instructrices/NouveauTableauElodieNathalieV028122023.csv'",
     "output_type": "error",
     "traceback": [
      "\u001b[0;31m---------------------------------------------------------------------------\u001b[0m",
      "\u001b[0;31mFileNotFoundError\u001b[0m                         Traceback (most recent call last)",
      "\u001b[1;32m/home/perrine/Documents/Code/DINUM/complements-alimentaires/notebooks/extract_duplicates.ipynb Cell 6\u001b[0m line \u001b[0;36m6\n\u001b[1;32m      <a href='vscode-notebook-cell:/home/perrine/Documents/Code/DINUM/complements-alimentaires/notebooks/extract_duplicates.ipynb#W3sZmlsZQ%3D%3D?line=3'>4</a>\u001b[0m dedup \u001b[39m=\u001b[39m []\n\u001b[1;32m      <a href='vscode-notebook-cell:/home/perrine/Documents/Code/DINUM/complements-alimentaires/notebooks/extract_duplicates.ipynb#W3sZmlsZQ%3D%3D?line=4'>5</a>\u001b[0m \u001b[39m# ouvre le fichier à dédupliquer\u001b[39;00m\n\u001b[0;32m----> <a href='vscode-notebook-cell:/home/perrine/Documents/Code/DINUM/complements-alimentaires/notebooks/extract_duplicates.ipynb#W3sZmlsZQ%3D%3D?line=5'>6</a>\u001b[0m \u001b[39mwith\u001b[39;00m \u001b[39mopen\u001b[39;49m(os\u001b[39m.\u001b[39;49mpath\u001b[39m.\u001b[39;49mjoin(directory, filename)) \u001b[39mas\u001b[39;00m csv_file:\n\u001b[1;32m      <a href='vscode-notebook-cell:/home/perrine/Documents/Code/DINUM/complements-alimentaires/notebooks/extract_duplicates.ipynb#W3sZmlsZQ%3D%3D?line=6'>7</a>\u001b[0m     reader \u001b[39m=\u001b[39m csv\u001b[39m.\u001b[39mDictReader(csv_file)\n\u001b[1;32m      <a href='vscode-notebook-cell:/home/perrine/Documents/Code/DINUM/complements-alimentaires/notebooks/extract_duplicates.ipynb#W3sZmlsZQ%3D%3D?line=7'>8</a>\u001b[0m     current_plant \u001b[39m=\u001b[39m defaultdict(\u001b[39mlist\u001b[39m)\n",
      "File \u001b[0;32m~/Documents/Code/DINUM/complements-alimentaires/venv/lib/python3.11/site-packages/IPython/core/interactiveshell.py:310\u001b[0m, in \u001b[0;36m_modified_open\u001b[0;34m(file, *args, **kwargs)\u001b[0m\n\u001b[1;32m    303\u001b[0m \u001b[39mif\u001b[39;00m file \u001b[39min\u001b[39;00m {\u001b[39m0\u001b[39m, \u001b[39m1\u001b[39m, \u001b[39m2\u001b[39m}:\n\u001b[1;32m    304\u001b[0m     \u001b[39mraise\u001b[39;00m \u001b[39mValueError\u001b[39;00m(\n\u001b[1;32m    305\u001b[0m         \u001b[39mf\u001b[39m\u001b[39m\"\u001b[39m\u001b[39mIPython won\u001b[39m\u001b[39m'\u001b[39m\u001b[39mt let you open fd=\u001b[39m\u001b[39m{\u001b[39;00mfile\u001b[39m}\u001b[39;00m\u001b[39m by default \u001b[39m\u001b[39m\"\u001b[39m\n\u001b[1;32m    306\u001b[0m         \u001b[39m\"\u001b[39m\u001b[39mas it is likely to crash IPython. If you know what you are doing, \u001b[39m\u001b[39m\"\u001b[39m\n\u001b[1;32m    307\u001b[0m         \u001b[39m\"\u001b[39m\u001b[39myou can use builtins\u001b[39m\u001b[39m'\u001b[39m\u001b[39m open.\u001b[39m\u001b[39m\"\u001b[39m\n\u001b[1;32m    308\u001b[0m     )\n\u001b[0;32m--> 310\u001b[0m \u001b[39mreturn\u001b[39;00m io_open(file, \u001b[39m*\u001b[39;49margs, \u001b[39m*\u001b[39;49m\u001b[39m*\u001b[39;49mkwargs)\n",
      "\u001b[0;31mFileNotFoundError\u001b[0m: [Errno 2] No such file or directory: '/home/perrine/Documents/Code/DINUM/Documents de travail instructrices/NouveauTableauElodieNathalieV028122023.csv'"
     ]
    }
   ],
   "source": [
    "filename = 'NouveauTableauElodieNathalieV028122023.csv'\n",
    "\n",
    "\n",
    "dedup = []\n",
    "# ouvre le fichier à dédupliquer\n",
    "with open(os.path.join(directory, filename)) as csv_file:\n",
    "    reader = csv.DictReader(csv_file)\n",
    "    current_plant = defaultdict(list)\n",
    "    old_name = \"\"\n",
    "\n",
    "    for row in reader:\n",
    "        current_name = row['Nom plantes en latin']\n",
    "        if current_name != old_name:\n",
    "            current_plant = {k: set(v) for k, v in current_plant.items()}\n",
    "            dedup.append(current_plant)\n",
    "            current_plant = defaultdict(list)\n",
    "        current_plant['Nom plantes en latin'].append(current_name)\n",
    "        current_plant['Nom synonyme'].append(row['Nom synonyme'])\n",
    "        current_plant['Partie utile'].append(row['Partie utile'])\n",
    "        current_plant['Partie à surveiller'].append(row['Partie à surveiller'])\n",
    "        current_plant['Substances actives'].append(row['Substances actives'])\n",
    "        current_plant['Stade(autorisé ou non)'].append(row['Stade(autorisé ou non)'])\n",
    "        current_plant['Famille plante'].append(row['Famille plante'])\n",
    "        current_plant['Fonction plante (ingredient)'].append(row['Fonction plante (ingredient)'])\n",
    "        current_plant['Commentaires publics'].append(row['Commentaires publics'])\n",
    "        current_plant['Restrictions'].append(row['Restrictions'])\n",
    "        current_plant['Commentaires privés'].append(row['Commentaires privés'])\n",
    "        old_name = current_name\n",
    "\n",
    "# deduplique chaque colonne\n",
    "current_plant = {k: set(v) for k, v in current_plant.items()}\n",
    "dedup.append(current_plant)\n",
    "\n",
    "save_dedup_dict(dedup, filename)\n"
   ]
  },
  {
   "cell_type": "code",
   "execution_count": 25,
   "metadata": {},
   "outputs": [
    {
     "data": {
      "text/plain": [
       "{'Nom plantes en latin': {'Malus domestica Borkh'},\n",
       " 'Nom synonyme': {'Pommier cultivé'},\n",
       " 'Partie utile': {'Plante entière'},\n",
       " 'Parties dans arrêté': {''},\n",
       " 'Partie à surveiller': {'Graine'},\n",
       " 'Substances actives': {'glycosides cyanogènes'},\n",
       " 'Stade(autorisé ou non)': {'Autorisé'},\n",
       " 'Famille plante': {'Rosaceae'},\n",
       " 'Fonction plante (ingredient)': {'Actif'},\n",
       " 'Commentaires publics (accessible opé dans nelle base)': {''},\n",
       " 'Restrictions': {''},\n",
       " 'Commentaires privés': {'Arrêté plantes 2014 (certaines parties) arrêté BE (plante entière)'}}"
      ]
     },
     "execution_count": 25,
     "metadata": {},
     "output_type": "execute_result"
    }
   ],
   "source": [
    "dedup[1]"
   ]
  }
 ],
 "metadata": {
  "kernelspec": {
   "display_name": "venv",
   "language": "python",
   "name": "python3"
  },
  "language_info": {
   "codemirror_mode": {
    "name": "ipython",
    "version": 3
   },
   "file_extension": ".py",
   "mimetype": "text/x-python",
   "name": "python",
   "nbconvert_exporter": "python",
   "pygments_lexer": "ipython3",
   "version": "3.11.6"
  }
 },
 "nbformat": 4,
 "nbformat_minor": 2
}
