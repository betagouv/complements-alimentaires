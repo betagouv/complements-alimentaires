{
  "cells": [
    {
      "cell_type": "code",
      "execution_count": 1,
      "metadata": {},
      "outputs": [
        {
          "name": "stderr",
          "output_type": "stream",
          "text": [
            "/tmp/ipykernel_6766/79180119.py:1: DeprecationWarning: \n",
            "Pyarrow will become a required dependency of pandas in the next major release of pandas (pandas 3.0),\n",
            "(to allow more performant data types, such as the Arrow string type, and better interoperability with other libraries)\n",
            "but was not found to be installed on your system.\n",
            "If this would cause problems for you,\n",
            "please provide us feedback at https://github.com/pandas-dev/pandas/issues/54466\n",
            "        \n",
            "  import pandas as pd\n"
          ]
        }
      ],
      "source": [
        "import pandas as pd \n",
        "import csv\n",
        "import matplotlib.pyplot as plt\n",
        "import seaborn as sns\n",
        "import numpy as np"
      ]
    },
    {
      "cell_type": "markdown",
      "metadata": {},
      "source": [
        "## à extraire de ce champ commentaire pour en faire de nouveaux :\n",
        "\n",
        "    présence d'allergène\n",
        "    dosage min\n",
        "    dosage max\n",
        "    novel food (booléan) si oui, date d'entrée dans le catalogue et URL vers texte en question\n",
        "    avertissements à mentionner sur l'étiquette\n",
        "    avertissements sur les populations cibles\n",
        "    avis ANSES et URL vers le lien de l'avis; sa date; les mises à jour\n",
        "    avis EMA\n",
        "    les synonymes (déjà présent dans la base, mais alimenter ce champ à partir des infos contenues dans comm)\n"
      ]
    },
    {
      "cell_type": "code",
      "execution_count": 2,
      "metadata": {},
      "outputs": [],
      "source": [
        "INGREDIENTS = {\n",
        "    \"REF_ICA_INGREDIENT_AUTRE.csv\",\n",
        "    \"REF_ICA_MICRO_ORGANISME.csv\",\n",
        "    \"REF_ICA_PLANTE.csv\",\n",
        "    \"REF_ICA_SUBSTANCE_ACTIVE.csv\",\n",
        "}"
      ]
    },
    {
      "cell_type": "code",
      "execution_count": 3,
      "metadata": {},
      "outputs": [
        {
          "data": {
            "text/plain": [
              "0                                                     NaN\n",
              "1                                                     NaN\n",
              "2                                                     NaN\n",
              "3                                                     NaN\n",
              "4                                                     NaN\n",
              "                              ...                        \n",
              "1166                                                  NaN\n",
              "1167    La quantité de chondroïtine par dose journaliè...\n",
              "1168                                                  NaN\n",
              "1169                                                  NaN\n",
              "1170                                                  NaN\n",
              "Name: INGA_COMMENTAIRE_PUBLIC, Length: 1171, dtype: object"
            ]
          },
          "execution_count": 3,
          "metadata": {},
          "output_type": "execute_result"
        }
      ],
      "source": [
        "ingredient_df = pd.read_csv('../raw_data/REF_ICA_INGREDIENT_AUTRE.csv')\n",
        "ingredient_df['INGA_COMMENTAIRE_PUBLIC']"
      ]
    },
    {
      "cell_type": "code",
      "execution_count": 4,
      "metadata": {},
      "outputs": [
        {
          "data": {
            "text/html": [
              "<div>\n",
              "<style scoped>\n",
              "    .dataframe tbody tr th:only-of-type {\n",
              "        vertical-align: middle;\n",
              "    }\n",
              "\n",
              "    .dataframe tbody tr th {\n",
              "        vertical-align: top;\n",
              "    }\n",
              "\n",
              "    .dataframe thead th {\n",
              "        text-align: right;\n",
              "    }\n",
              "</style>\n",
              "<table border=\"1\" class=\"dataframe\">\n",
              "  <thead>\n",
              "    <tr style=\"text-align: right;\">\n",
              "      <th></th>\n",
              "      <th>COMMENTAIRE_PUBLIC</th>\n",
              "      <th>COMMENTAIRE_PUBLIC_EN</th>\n",
              "      <th>TYPE</th>\n",
              "    </tr>\n",
              "  </thead>\n",
              "  <tbody>\n",
              "    <tr>\n",
              "      <th>0</th>\n",
              "      <td>NaN</td>\n",
              "      <td>NaN</td>\n",
              "      <td>INGA</td>\n",
              "    </tr>\n",
              "    <tr>\n",
              "      <th>1</th>\n",
              "      <td>NaN</td>\n",
              "      <td>NaN</td>\n",
              "      <td>INGA</td>\n",
              "    </tr>\n",
              "    <tr>\n",
              "      <th>2</th>\n",
              "      <td>NaN</td>\n",
              "      <td>NaN</td>\n",
              "      <td>INGA</td>\n",
              "    </tr>\n",
              "    <tr>\n",
              "      <th>3</th>\n",
              "      <td>NaN</td>\n",
              "      <td>NaN</td>\n",
              "      <td>INGA</td>\n",
              "    </tr>\n",
              "    <tr>\n",
              "      <th>4</th>\n",
              "      <td>NaN</td>\n",
              "      <td>NaN</td>\n",
              "      <td>INGA</td>\n",
              "    </tr>\n",
              "    <tr>\n",
              "      <th>...</th>\n",
              "      <td>...</td>\n",
              "      <td>...</td>\n",
              "      <td>...</td>\n",
              "    </tr>\n",
              "    <tr>\n",
              "      <th>86</th>\n",
              "      <td>NaN</td>\n",
              "      <td>NaN</td>\n",
              "      <td>MORG</td>\n",
              "    </tr>\n",
              "    <tr>\n",
              "      <th>87</th>\n",
              "      <td>NaN</td>\n",
              "      <td>NaN</td>\n",
              "      <td>MORG</td>\n",
              "    </tr>\n",
              "    <tr>\n",
              "      <th>88</th>\n",
              "      <td>NaN</td>\n",
              "      <td>NaN</td>\n",
              "      <td>MORG</td>\n",
              "    </tr>\n",
              "    <tr>\n",
              "      <th>89</th>\n",
              "      <td>NaN</td>\n",
              "      <td>NaN</td>\n",
              "      <td>MORG</td>\n",
              "    </tr>\n",
              "    <tr>\n",
              "      <th>90</th>\n",
              "      <td>Autorisation Novel Food (Reg. d'éxecution (UE)...</td>\n",
              "      <td>NaN</td>\n",
              "      <td>MORG</td>\n",
              "    </tr>\n",
              "  </tbody>\n",
              "</table>\n",
              "<p>3892 rows × 3 columns</p>\n",
              "</div>"
            ],
            "text/plain": [
              "                                   COMMENTAIRE_PUBLIC COMMENTAIRE_PUBLIC_EN  \\\n",
              "0                                                 NaN                   NaN   \n",
              "1                                                 NaN                   NaN   \n",
              "2                                                 NaN                   NaN   \n",
              "3                                                 NaN                   NaN   \n",
              "4                                                 NaN                   NaN   \n",
              "..                                                ...                   ...   \n",
              "86                                                NaN                   NaN   \n",
              "87                                                NaN                   NaN   \n",
              "88                                                NaN                   NaN   \n",
              "89                                                NaN                   NaN   \n",
              "90  Autorisation Novel Food (Reg. d'éxecution (UE)...                   NaN   \n",
              "\n",
              "    TYPE  \n",
              "0   INGA  \n",
              "1   INGA  \n",
              "2   INGA  \n",
              "3   INGA  \n",
              "4   INGA  \n",
              "..   ...  \n",
              "86  MORG  \n",
              "87  MORG  \n",
              "88  MORG  \n",
              "89  MORG  \n",
              "90  MORG  \n",
              "\n",
              "[3892 rows x 3 columns]"
            ]
          },
          "execution_count": 4,
          "metadata": {},
          "output_type": "execute_result"
        }
      ],
      "source": [
        "# Merge des DF de tous les types d'ingrédients\n",
        "\n",
        "columns_to_select = ['COMMENTAIRE_PUBLIC', 'COMMENTAIRE_PUBLIC_EN']\n",
        "df_list = []\n",
        "for filename in INGREDIENTS:\n",
        "    df = pd.read_csv(f'../raw_data/{filename}')\n",
        "    columns = [column_name for column_name in df.columns if column_name.split('_', 1)[1] in columns_to_select]\n",
        "    df = df[columns]\n",
        "    ingr_type = df.columns[0].split('_')[0]\n",
        "    df.columns = columns_to_select\n",
        "    df['TYPE'] = ingr_type\n",
        "    df_list.append(df)\n",
        "\n",
        "all_ingredient_df = pd.concat(df_list)\n",
        "all_ingredient_df"
      ]
    },
    {
      "cell_type": "code",
      "execution_count": 5,
      "metadata": {},
      "outputs": [
        {
          "data": {
            "text/plain": [
              "228     L’Anses, dans son avis du 4 janvier 2019 (http...\n",
              "291     La quantité de mélatonine par dose journalière...\n",
              "296     L’Anses, dans son avis du 4 janvier 2019 (http...\n",
              "339     La quantité de chondroïtine par dose journaliè...\n",
              "340     La quantité de glucosamine par dose journalièr...\n",
              "825     La quantité de glucosamine par dose journalièr...\n",
              "1167    La quantité de chondroïtine par dose journaliè...\n",
              "Name: INGA_COMMENTAIRE_PUBLIC, dtype: object"
            ]
          },
          "execution_count": 5,
          "metadata": {},
          "output_type": "execute_result"
        }
      ],
      "source": [
        "# Regexp AVIS Anses/EMA\n",
        "\n",
        "def contains_elements_to_find(comment, elements_to_find):\n",
        "    if pd.isnull(comment):\n",
        "        return np.nan\n",
        "    if any(elem for elem in elements_to_find  if comment.lower().find(elem) != -1):\n",
        "        return True\n",
        "    else:\n",
        "        return False\n",
        "\n",
        "ingredient_df['contains_ANSES'] = ingredient_df['INGA_COMMENTAIRE_PUBLIC'].apply(lambda x: contains_elements_to_find(x, ['anses']))\n",
        "ingredient_df[ingredient_df['contains_ANSES'] == True]['INGA_COMMENTAIRE_PUBLIC']"
      ]
    },
    {
      "cell_type": "code",
      "execution_count": 6,
      "metadata": {},
      "outputs": [
        {
          "data": {
            "text/plain": [
              "72"
            ]
          },
          "execution_count": 6,
          "metadata": {},
          "output_type": "execute_result"
        }
      ],
      "source": [
        "all_ingredient_df['contains_ANSES'] = all_ingredient_df['COMMENTAIRE_PUBLIC'].apply(lambda x: contains_elements_to_find(x, ['anses']))\n",
        "len(all_ingredient_df[all_ingredient_df['contains_ANSES'] == True][['COMMENTAIRE_PUBLIC', 'TYPE']])"
      ]
    },
    {
      "cell_type": "code",
      "execution_count": 7,
      "metadata": {},
      "outputs": [
        {
          "data": {
            "text/plain": [
              "29"
            ]
          },
          "execution_count": 7,
          "metadata": {},
          "output_type": "execute_result"
        }
      ],
      "source": [
        "   \n",
        "all_ingredient_df['contains_HTTP'] = all_ingredient_df['COMMENTAIRE_PUBLIC'].apply(lambda x : contains_elements_to_find(x, [\"http://\", \"https://\"]))\n",
        "len(all_ingredient_df[all_ingredient_df['contains_HTTP'] == True][['COMMENTAIRE_PUBLIC', 'TYPE']])"
      ]
    },
    {
      "cell_type": "code",
      "execution_count": 8,
      "metadata": {},
      "outputs": [
        {
          "data": {
            "text/plain": [
              "67"
            ]
          },
          "execution_count": 8,
          "metadata": {},
          "output_type": "execute_result"
        }
      ],
      "source": [
        "   \n",
        "all_ingredient_df['contains_EMA'] = all_ingredient_df['COMMENTAIRE_PUBLIC'].apply(lambda x : contains_elements_to_find(x, [\"ema\"]))\n",
        "len(all_ingredient_df[all_ingredient_df['contains_EMA'] == True][['COMMENTAIRE_PUBLIC', 'TYPE']])"
      ]
    },
    {
      "cell_type": "code",
      "execution_count": 9,
      "metadata": {},
      "outputs": [
        {
          "data": {
            "text/plain": [
              "38"
            ]
          },
          "execution_count": 9,
          "metadata": {},
          "output_type": "execute_result"
        }
      ],
      "source": [
        "   \n",
        "all_ingredient_df['contains_allergie'] = all_ingredient_df['COMMENTAIRE_PUBLIC'].apply(lambda x : contains_elements_to_find(x, [\"allerg\"]))\n",
        "len(all_ingredient_df[all_ingredient_df['contains_allergie'] == True][['COMMENTAIRE_PUBLIC', 'TYPE']])"
      ]
    },
    {
      "cell_type": "code",
      "execution_count": 10,
      "metadata": {},
      "outputs": [
        {
          "data": {
            "text/plain": [
              "53"
            ]
          },
          "execution_count": 10,
          "metadata": {},
          "output_type": "execute_result"
        }
      ],
      "source": [
        "   \n",
        "all_ingredient_df['contains_novel_food'] = all_ingredient_df['COMMENTAIRE_PUBLIC'].apply(lambda x : contains_elements_to_find(x, [\"novel food\"]))\n",
        "len(all_ingredient_df[all_ingredient_df['contains_novel_food'] == True][['COMMENTAIRE_PUBLIC', 'TYPE']])"
      ]
    },
    {
      "cell_type": "code",
      "execution_count": 26,
      "metadata": {},
      "outputs": [],
      "source": [
        "# nombre d'occurence par mots\n",
        "# ajout de stop words\n",
        "from sklearn.feature_extraction.text import CountVectorizer\n",
        "from nltk.corpus import stopwords\n",
        "french_stopwords = list(stopwords.words('french'))\n",
        "\n",
        "count_vectorizer_without_stopW = CountVectorizer(stop_words=french_stopwords, ngram_range=(1,1))\n",
        "matrix_without_stopW = count_vectorizer_without_stopW.fit_transform(all_ingredient_df['COMMENTAIRE_PUBLIC'].dropna())\n",
        "len(count_vectorizer_without_stopW.vocabulary_.items())\n",
        " \n",
        "count_vectorizer = CountVectorizer(ngram_range=(1,1))\n",
        "matrix = count_vectorizer.fit_transform(all_ingredient_df['COMMENTAIRE_PUBLIC'].dropna())"
      ]
    },
    {
      "cell_type": "code",
      "execution_count": 25,
      "metadata": {},
      "outputs": [
        {
          "data": {
            "text/html": [
              "<div>\n",
              "<style scoped>\n",
              "    .dataframe tbody tr th:only-of-type {\n",
              "        vertical-align: middle;\n",
              "    }\n",
              "\n",
              "    .dataframe tbody tr th {\n",
              "        vertical-align: top;\n",
              "    }\n",
              "\n",
              "    .dataframe thead th {\n",
              "        text-align: right;\n",
              "    }\n",
              "</style>\n",
              "<table border=\"1\" class=\"dataframe\">\n",
              "  <thead>\n",
              "    <tr style=\"text-align: right;\">\n",
              "      <th></th>\n",
              "      <th>000</th>\n",
              "      <th>0001</th>\n",
              "      <th>01</th>\n",
              "      <th>011</th>\n",
              "      <th>0111</th>\n",
              "      <th>05</th>\n",
              "      <th>06</th>\n",
              "      <th>10</th>\n",
              "      <th>100</th>\n",
              "      <th>1000000</th>\n",
              "      <th>...</th>\n",
              "      <th>évaporation</th>\n",
              "      <th>évidence</th>\n",
              "      <th>éviter</th>\n",
              "      <th>évitée</th>\n",
              "      <th>éxecution</th>\n",
              "      <th>éxécution</th>\n",
              "      <th>être</th>\n",
              "      <th>œdémateuse</th>\n",
              "      <th>œdémateuses</th>\n",
              "      <th>œuvre</th>\n",
              "    </tr>\n",
              "  </thead>\n",
              "  <tbody>\n",
              "    <tr>\n",
              "      <th>0</th>\n",
              "      <td>1</td>\n",
              "      <td>1</td>\n",
              "      <td>3</td>\n",
              "      <td>1</td>\n",
              "      <td>2</td>\n",
              "      <td>1</td>\n",
              "      <td>1</td>\n",
              "      <td>26</td>\n",
              "      <td>9</td>\n",
              "      <td>1</td>\n",
              "      <td>...</td>\n",
              "      <td>1</td>\n",
              "      <td>7</td>\n",
              "      <td>7</td>\n",
              "      <td>1</td>\n",
              "      <td>1</td>\n",
              "      <td>1</td>\n",
              "      <td>175</td>\n",
              "      <td>1</td>\n",
              "      <td>3</td>\n",
              "      <td>4</td>\n",
              "    </tr>\n",
              "  </tbody>\n",
              "</table>\n",
              "<p>1 rows × 1837 columns</p>\n",
              "</div>"
            ],
            "text/plain": [
              "   000  0001  01  011  0111  05  06  10  100  1000000  ...  évaporation  \\\n",
              "0    1     1   3    1     2   1   1  26    9        1  ...            1   \n",
              "\n",
              "   évidence  éviter  évitée  éxecution  éxécution  être  œdémateuse  \\\n",
              "0         7       7       1          1          1   175           1   \n",
              "\n",
              "   œdémateuses  œuvre  \n",
              "0            3      4  \n",
              "\n",
              "[1 rows x 1837 columns]"
            ]
          },
          "execution_count": 25,
          "metadata": {},
          "output_type": "execute_result"
        }
      ],
      "source": [
        "counts = pd.DataFrame([np.sum(matrix.toarray(), axis=0)],\n",
        "                      columns=count_vectorizer.get_feature_names_out())\n",
        "counts\n",
        "# .sum(axis=0).to_frame().sort_values(by=['0'], ascending=False)"
      ]
    },
    {
      "cell_type": "code",
      "execution_count": 27,
      "metadata": {},
      "outputs": [
        {
          "data": {
            "text/html": [
              "<div>\n",
              "<style scoped>\n",
              "    .dataframe tbody tr th:only-of-type {\n",
              "        vertical-align: middle;\n",
              "    }\n",
              "\n",
              "    .dataframe tbody tr th {\n",
              "        vertical-align: top;\n",
              "    }\n",
              "\n",
              "    .dataframe thead th {\n",
              "        text-align: right;\n",
              "    }\n",
              "</style>\n",
              "<table border=\"1\" class=\"dataframe\">\n",
              "  <thead>\n",
              "    <tr style=\"text-align: right;\">\n",
              "      <th></th>\n",
              "      <th>000</th>\n",
              "      <th>0001</th>\n",
              "      <th>01</th>\n",
              "      <th>011</th>\n",
              "      <th>0111</th>\n",
              "      <th>05</th>\n",
              "      <th>06</th>\n",
              "      <th>10</th>\n",
              "      <th>100</th>\n",
              "      <th>1000000</th>\n",
              "      <th>...</th>\n",
              "      <th>évaporation</th>\n",
              "      <th>évidence</th>\n",
              "      <th>éviter</th>\n",
              "      <th>évitée</th>\n",
              "      <th>éxecution</th>\n",
              "      <th>éxécution</th>\n",
              "      <th>être</th>\n",
              "      <th>œdémateuse</th>\n",
              "      <th>œdémateuses</th>\n",
              "      <th>œuvre</th>\n",
              "    </tr>\n",
              "  </thead>\n",
              "  <tbody>\n",
              "    <tr>\n",
              "      <th>0</th>\n",
              "      <td>1</td>\n",
              "      <td>1</td>\n",
              "      <td>3</td>\n",
              "      <td>1</td>\n",
              "      <td>2</td>\n",
              "      <td>1</td>\n",
              "      <td>1</td>\n",
              "      <td>26</td>\n",
              "      <td>9</td>\n",
              "      <td>1</td>\n",
              "      <td>...</td>\n",
              "      <td>1</td>\n",
              "      <td>7</td>\n",
              "      <td>7</td>\n",
              "      <td>1</td>\n",
              "      <td>1</td>\n",
              "      <td>1</td>\n",
              "      <td>175</td>\n",
              "      <td>1</td>\n",
              "      <td>3</td>\n",
              "      <td>4</td>\n",
              "    </tr>\n",
              "  </tbody>\n",
              "</table>\n",
              "<p>1 rows × 1784 columns</p>\n",
              "</div>"
            ],
            "text/plain": [
              "   000  0001  01  011  0111  05  06  10  100  1000000  ...  évaporation  \\\n",
              "0    1     1   3    1     2   1   1  26    9        1  ...            1   \n",
              "\n",
              "   évidence  éviter  évitée  éxecution  éxécution  être  œdémateuse  \\\n",
              "0         7       7       1          1          1   175           1   \n",
              "\n",
              "   œdémateuses  œuvre  \n",
              "0            3      4  \n",
              "\n",
              "[1 rows x 1784 columns]"
            ]
          },
          "execution_count": 27,
          "metadata": {},
          "output_type": "execute_result"
        }
      ],
      "source": [
        "counts_without_stopW = pd.DataFrame([np.sum(matrix_without_stopW.toarray(), axis=0)],\n",
        "                      columns=count_vectorizer_without_stopW.get_feature_names_out())\n",
        "counts_without_stopW"
      ]
    },
    {
      "cell_type": "code",
      "execution_count": 28,
      "metadata": {},
      "outputs": [
        {
          "data": {
            "text/html": [
              "<div>\n",
              "<style scoped>\n",
              "    .dataframe tbody tr th:only-of-type {\n",
              "        vertical-align: middle;\n",
              "    }\n",
              "\n",
              "    .dataframe tbody tr th {\n",
              "        vertical-align: top;\n",
              "    }\n",
              "\n",
              "    .dataframe thead th {\n",
              "        text-align: right;\n",
              "    }\n",
              "</style>\n",
              "<table border=\"1\" class=\"dataframe\">\n",
              "  <thead>\n",
              "    <tr style=\"text-align: right;\">\n",
              "      <th></th>\n",
              "      <th>0</th>\n",
              "    </tr>\n",
              "  </thead>\n",
              "  <tbody>\n",
              "    <tr>\n",
              "      <th>de</th>\n",
              "      <td>957</td>\n",
              "    </tr>\n",
              "    <tr>\n",
              "      <th>la</th>\n",
              "      <td>653</td>\n",
              "    </tr>\n",
              "    <tr>\n",
              "      <th>en</th>\n",
              "      <td>581</td>\n",
              "    </tr>\n",
              "    <tr>\n",
              "      <th>est</th>\n",
              "      <td>524</td>\n",
              "    </tr>\n",
              "    <tr>\n",
              "      <th>les</th>\n",
              "      <td>472</td>\n",
              "    </tr>\n",
              "    <tr>\n",
              "      <th>et</th>\n",
              "      <td>325</td>\n",
              "    </tr>\n",
              "    <tr>\n",
              "      <th>déconseillé</th>\n",
              "      <td>275</td>\n",
              "    </tr>\n",
              "    <tr>\n",
              "      <th>aux</th>\n",
              "      <td>267</td>\n",
              "    </tr>\n",
              "    <tr>\n",
              "      <th>des</th>\n",
              "      <td>265</td>\n",
              "    </tr>\n",
              "    <tr>\n",
              "      <th>doit</th>\n",
              "      <td>248</td>\n",
              "    </tr>\n",
              "    <tr>\n",
              "      <th>un</th>\n",
              "      <td>231</td>\n",
              "    </tr>\n",
              "    <tr>\n",
              "      <th>femmes</th>\n",
              "      <td>227</td>\n",
              "    </tr>\n",
              "    <tr>\n",
              "      <th>surveiller</th>\n",
              "      <td>225</td>\n",
              "    </tr>\n",
              "    <tr>\n",
              "      <th>emploi</th>\n",
              "      <td>222</td>\n",
              "    </tr>\n",
              "    <tr>\n",
              "      <th>enceintes</th>\n",
              "      <td>216</td>\n",
              "    </tr>\n",
              "    <tr>\n",
              "      <th>chez</th>\n",
              "      <td>216</td>\n",
              "    </tr>\n",
              "    <tr>\n",
              "      <th>ou</th>\n",
              "      <td>211</td>\n",
              "    </tr>\n",
              "    <tr>\n",
              "      <th>concentration</th>\n",
              "      <td>201</td>\n",
              "    </tr>\n",
              "    <tr>\n",
              "      <th>être</th>\n",
              "      <td>175</td>\n",
              "    </tr>\n",
              "    <tr>\n",
              "      <th>du</th>\n",
              "      <td>172</td>\n",
              "    </tr>\n",
              "  </tbody>\n",
              "</table>\n",
              "</div>"
            ],
            "text/plain": [
              "                 0\n",
              "de             957\n",
              "la             653\n",
              "en             581\n",
              "est            524\n",
              "les            472\n",
              "et             325\n",
              "déconseillé    275\n",
              "aux            267\n",
              "des            265\n",
              "doit           248\n",
              "un             231\n",
              "femmes         227\n",
              "surveiller     225\n",
              "emploi         222\n",
              "enceintes      216\n",
              "chez           216\n",
              "ou             211\n",
              "concentration  201\n",
              "être           175\n",
              "du             172"
            ]
          },
          "execution_count": 28,
          "metadata": {},
          "output_type": "execute_result"
        }
      ],
      "source": [
        "counts.T.sort_values(by=0, ascending=False).head(20)"
      ]
    },
    {
      "cell_type": "code",
      "execution_count": 29,
      "metadata": {},
      "outputs": [
        {
          "data": {
            "text/html": [
              "<div>\n",
              "<style scoped>\n",
              "    .dataframe tbody tr th:only-of-type {\n",
              "        vertical-align: middle;\n",
              "    }\n",
              "\n",
              "    .dataframe tbody tr th {\n",
              "        vertical-align: top;\n",
              "    }\n",
              "\n",
              "    .dataframe thead th {\n",
              "        text-align: right;\n",
              "    }\n",
              "</style>\n",
              "<table border=\"1\" class=\"dataframe\">\n",
              "  <thead>\n",
              "    <tr style=\"text-align: right;\">\n",
              "      <th></th>\n",
              "      <th>0</th>\n",
              "    </tr>\n",
              "  </thead>\n",
              "  <tbody>\n",
              "    <tr>\n",
              "      <th>déconseillé</th>\n",
              "      <td>275</td>\n",
              "    </tr>\n",
              "    <tr>\n",
              "      <th>doit</th>\n",
              "      <td>248</td>\n",
              "    </tr>\n",
              "    <tr>\n",
              "      <th>femmes</th>\n",
              "      <td>227</td>\n",
              "    </tr>\n",
              "    <tr>\n",
              "      <th>surveiller</th>\n",
              "      <td>225</td>\n",
              "    </tr>\n",
              "    <tr>\n",
              "      <th>emploi</th>\n",
              "      <td>222</td>\n",
              "    </tr>\n",
              "    <tr>\n",
              "      <th>enceintes</th>\n",
              "      <td>216</td>\n",
              "    </tr>\n",
              "    <tr>\n",
              "      <th>chez</th>\n",
              "      <td>216</td>\n",
              "    </tr>\n",
              "    <tr>\n",
              "      <th>concentration</th>\n",
              "      <td>201</td>\n",
              "    </tr>\n",
              "    <tr>\n",
              "      <th>être</th>\n",
              "      <td>175</td>\n",
              "    </tr>\n",
              "    <tr>\n",
              "      <th>personnes</th>\n",
              "      <td>166</td>\n",
              "    </tr>\n",
              "    <tr>\n",
              "      <th>enfants</th>\n",
              "      <td>164</td>\n",
              "    </tr>\n",
              "    <tr>\n",
              "      <th>allaitantes</th>\n",
              "      <td>146</td>\n",
              "    </tr>\n",
              "    <tr>\n",
              "      <th>étiquetage</th>\n",
              "      <td>143</td>\n",
              "    </tr>\n",
              "    <tr>\n",
              "      <th>ans</th>\n",
              "      <td>137</td>\n",
              "    </tr>\n",
              "    <tr>\n",
              "      <th>mg</th>\n",
              "      <td>131</td>\n",
              "    </tr>\n",
              "    <tr>\n",
              "      <th>alimentaires</th>\n",
              "      <td>124</td>\n",
              "    </tr>\n",
              "    <tr>\n",
              "      <th>moins</th>\n",
              "      <td>110</td>\n",
              "    </tr>\n",
              "    <tr>\n",
              "      <th>sous</th>\n",
              "      <td>104</td>\n",
              "    </tr>\n",
              "    <tr>\n",
              "      <th>règlement</th>\n",
              "      <td>104</td>\n",
              "    </tr>\n",
              "    <tr>\n",
              "      <th>traitement</th>\n",
              "      <td>101</td>\n",
              "    </tr>\n",
              "  </tbody>\n",
              "</table>\n",
              "</div>"
            ],
            "text/plain": [
              "                 0\n",
              "déconseillé    275\n",
              "doit           248\n",
              "femmes         227\n",
              "surveiller     225\n",
              "emploi         222\n",
              "enceintes      216\n",
              "chez           216\n",
              "concentration  201\n",
              "être           175\n",
              "personnes      166\n",
              "enfants        164\n",
              "allaitantes    146\n",
              "étiquetage     143\n",
              "ans            137\n",
              "mg             131\n",
              "alimentaires   124\n",
              "moins          110\n",
              "sous           104\n",
              "règlement      104\n",
              "traitement     101"
            ]
          },
          "execution_count": 29,
          "metadata": {},
          "output_type": "execute_result"
        }
      ],
      "source": [
        "counts_without_stopW.T.sort_values(by=0, ascending=False).head(20)"
      ]
    },
    {
      "cell_type": "code",
      "execution_count": 31,
      "metadata": {},
      "outputs": [
        {
          "data": {
            "image/png": "[encoded data removed]",
            "text/plain": [
              "<Figure size 640x480 with 1 Axes>"
            ]
          },
          "metadata": {},
          "output_type": "display_data"
        }
      ],
      "source": [
        "# ça prend 5 minutes de traitement\n",
        "import networkx as nx\n",
        "graph = nx.Graph()\n",
        "\n",
        "num_nodes = len(matrix_without_stopW.toarray())\n",
        "\n",
        "graph.add_nodes_from(count_vectorizer_without_stopW.get_feature_names_out())\n",
        "for i in range(num_nodes):\n",
        "    for j in range(i + 1, num_nodes):\n",
        "        if matrix_without_stopW.toarray()[i][j] == 1:\n",
        "            graph.add_edge(i, j)\n",
        "\n",
        "nx.draw(graph, with_labels=True, node_color='lightblue', node_size=500, font_weight='bold')\n",
        "\n",
        "plt.show()"
      ]
    },
    {
      "cell_type": "code",
      "execution_count": null,
      "metadata": {},
      "outputs": [
        {
          "data": {
            "text/plain": [
              "array([[0., 0., 0., ..., 0., 0., 0.],\n",
              "       [0., 0., 0., ..., 0., 0., 0.],\n",
              "       [0., 0., 0., ..., 0., 0., 0.],\n",
              "       ...,\n",
              "       [0., 0., 0., ..., 0., 0., 0.],\n",
              "       [0., 0., 0., ..., 0., 0., 0.],\n",
              "       [0., 0., 0., ..., 0., 0., 0.]])"
            ]
          },
          "execution_count": 104,
          "metadata": {},
          "output_type": "execute_result"
        }
      ],
      "source": [
        "# TF-IDF\n",
        "\n",
        "\n",
        "\n",
        "from sklearn.feature_extraction.text import TfidfVectorizer\n",
        "\n",
        "v = TfidfVectorizer()\n",
        "x = v.fit_transform(all_ingredient_df['COMMENTAIRE_PUBLIC'].dropna())\n",
        "x.toarray()\n"
      ]
    },
    {
      "cell_type": "code",
      "execution_count": null,
      "metadata": {},
      "outputs": [],
      "source": [
        "# TODO : multi-label clustering\n",
        "# un document peut se retrouver dans plusieurs clusters (ANSES et AME en même temps, ou ANSES et par population)"
      ]
    }
  ],
  "metadata": {
    "kernelspec": {
      "display_name": "venv",
      "language": "python",
      "name": "python3"
    },
    "language_info": {
      "codemirror_mode": {
        "name": "ipython",
        "version": 3
      },
      "file_extension": ".py",
      "mimetype": "text/x-python",
      "name": "python",
      "nbconvert_exporter": "python",
      "pygments_lexer": "ipython3",
      "version": "3.11.6"
    }
  },
  "nbformat": 4,
  "nbformat_minor": 2
}
